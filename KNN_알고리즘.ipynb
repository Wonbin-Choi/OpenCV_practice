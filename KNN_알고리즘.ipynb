{
  "nbformat": 4,
  "nbformat_minor": 0,
  "metadata": {
    "colab": {
      "provenance": [],
      "authorship_tag": "ABX9TyN3o7mGAMVzER2r1FaoBE7W",
      "include_colab_link": true
    },
    "kernelspec": {
      "name": "python3",
      "display_name": "Python 3"
    },
    "language_info": {
      "name": "python"
    }
  },
  "cells": [
    {
      "cell_type": "markdown",
      "metadata": {
        "id": "view-in-github",
        "colab_type": "text"
      },
      "source": [
        "<a href=\"https://colab.research.google.com/github/Wonbin-Choi/OpenCV_practice/blob/main/KNN_%EC%95%8C%EA%B3%A0%EB%A6%AC%EC%A6%98.ipynb\" target=\"_parent\"><img src=\"https://colab.research.google.com/assets/colab-badge.svg\" alt=\"Open In Colab\"/></a>"
      ]
    },
    {
      "cell_type": "code",
      "execution_count": 7,
      "metadata": {
        "colab": {
          "base_uri": "https://localhost:8080/",
          "height": 487
        },
        "id": "DPWW1EuCgMmU",
        "outputId": "0126e46c-c781-42a7-d0f1-866f3f3f0d70"
      },
      "outputs": [
        {
          "output_type": "stream",
          "name": "stdout",
          "text": [
            "result :  [[1.]]\n",
            "neighbours :  [[1. 1. 0.]]\n",
            "distance :  [[ 65. 109. 257.]]\n"
          ]
        },
        {
          "output_type": "display_data",
          "data": {
            "text/plain": [
              "<Figure size 640x480 with 1 Axes>"
            ],
            "image/png": "[encoded data removed]"
          },
          "metadata": {}
        }
      ],
      "source": [
        "import cv2\n",
        "import numpy as np\n",
        "from matplotlib import pyplot as plt\n",
        "\n",
        "# 각 데이터의 위치: 25개의 데이터가 2차원 공간상(배열)에 있다는 것을 의미, x,y= 0 ~ 100\n",
        "trainData = np.random.randint(0,100,(25,2)).astype(np.float32)\n",
        "# 각 데이터는 0 or 1, 25개는 0 또는 1이다.\n",
        "response = np.random.randint(0,2,(25,1)).astype(np.float32)\n",
        "\n",
        "# 값이 0인 데이터를 각각 (x,y) 위치에 빨간색 세모로 칠합니다.\n",
        "red = trainData[response.ravel() == 0]\n",
        "plt.scatter(red[:,0], red[:,1], 80,'r','^')\n",
        "# 값이 1인 데이터를 각각 (x,y) 위치에 파란색 네모로 칠합니다.\n",
        "blue = trainData[response.ravel()==1]\n",
        "plt.scatter(blue[:,0],blue[:,1],80,'b','s')\n",
        "\n",
        "#(0 ~ 100, 0 ~ 100) 위치의 데이터를 하나 생성해  초록색 원으로 칠합니다.\n",
        "newcomer = np.random.randint(0, 100, (1, 2)).astype(np.float32)\n",
        "plt.scatter(newcomer[:, 0], newcomer[:, 1], 80, 'g', 'o')\n",
        "\n",
        "knn = cv2.ml.KNearest_create()\n",
        "knn.train(trainData,cv2.ml.ROW_SAMPLE, response)\n",
        "ret, results, neighbours, dist = knn.findNearest(newcomer,3)\n",
        "\n",
        "# 가까운 3개를 찾고, 거리를 고려하여 자신을 정합니다.\n",
        "print(\"result : \",results) # 0이냐 1이냐\n",
        "print(\"neighbours : \",neighbours) # 0이 몇 개 1이 몇 개, 더 많은거에 따라서 자신도 그거라고 결정\n",
        "print(\"distance : \",dist) # neighbours의 거리\n",
        "\n",
        "plt.show()"
      ]
    }
  ]
}
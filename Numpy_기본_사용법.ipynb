{
  "nbformat": 4,
  "nbformat_minor": 0,
  "metadata": {
    "colab": {
      "provenance": [],
      "mount_file_id": "1BQ2wZ_RdWhgYNdSKjYZ9vGtYx4WkH_c0",
      "authorship_tag": "ABX9TyPnQjEZYyY1uR+w5YrYokeJ",
      "include_colab_link": true
    },
    "kernelspec": {
      "name": "python3",
      "display_name": "Python 3"
    },
    "language_info": {
      "name": "python"
    }
  },
  "cells": [
    {
      "cell_type": "markdown",
      "metadata": {
        "id": "view-in-github",
        "colab_type": "text"
      },
      "source": [
        "<a href=\"https://colab.research.google.com/github/Wonbin-Choi/OpenCV_practice/blob/main/Numpy_%EA%B8%B0%EB%B3%B8_%EC%82%AC%EC%9A%A9%EB%B2%95.ipynb\" target=\"_parent\"><img src=\"https://colab.research.google.com/assets/colab-badge.svg\" alt=\"Open In Colab\"/></a>"
      ]
    },
    {
      "cell_type": "markdown",
      "source": [
        "###List를 Numpy로 바꾸어 보기"
      ],
      "metadata": {
        "id": "GoDlAafXwy8B"
      }
    },
    {
      "cell_type": "code",
      "execution_count": null,
      "metadata": {
        "colab": {
          "base_uri": "https://localhost:8080/"
        },
        "id": "I0kJ4P7btvgf",
        "outputId": "bff3d1cd-8630-4ce0-808b-7b5473929cc0"
      },
      "outputs": [
        {
          "output_type": "stream",
          "name": "stdout",
          "text": [
            "3\n",
            "int64\n",
            "3\n"
          ]
        }
      ],
      "source": [
        "import numpy as np\n",
        "arr = np.array([1,2,3]) # numpy 자료형으로 바꾼다\n",
        "print(arr.size) # 배열의 크기\n",
        "print(arr.dtype) # 배열 원소의 타입\n",
        "print(arr[2])"
      ]
    },
    {
      "cell_type": "markdown",
      "source": [
        "### Numpy 배열 초기화 하기"
      ],
      "metadata": {
        "id": "bWzXFv8yw6--"
      }
    },
    {
      "cell_type": "code",
      "source": [
        "import numpy as np\n",
        "# 0부터 3까지의 배열 만들기\n",
        "array1 = np.arange(4)\n",
        "print(array1)\n",
        "\n",
        "# 0으로 초기화\n",
        "array2 = np.zeros((4,4),dtype=float) # 4x4 행렬을 0으로 초기화\n",
        "print(array2)\n",
        "\n",
        "# 1로 초기화\n",
        "array3 = np.ones((4,4),dtype=float) # 4x4 행렬을 1으로 초기화\n",
        "print(array3)\n",
        "\n",
        "# 0부터 9까지 랜덤하게 초기화 된 배열 만들기\n",
        "array4 = np.random.randint(0,10,(3,3)) # 0에서 10미만 3x3 행렬\n",
        "print(array4)\n",
        "\n",
        "# 평균이 0이고 표준편차가 1인 표준 정규 분포를 띄는 배열\n",
        "array5 = np.random.normal(0,1,(3,3))\n",
        "print(array5)"
      ],
      "metadata": {
        "colab": {
          "base_uri": "https://localhost:8080/"
        },
        "id": "N8jazxd5uoWb",
        "outputId": "d140e79b-e21c-41d4-eae4-9d6637c1fe00"
      },
      "execution_count": null,
      "outputs": [
        {
          "output_type": "stream",
          "name": "stdout",
          "text": [
            "[0 1 2 3]\n",
            "[[0. 0. 0. 0.]\n",
            " [0. 0. 0. 0.]\n",
            " [0. 0. 0. 0.]\n",
            " [0. 0. 0. 0.]]\n",
            "[[1. 1. 1. 1.]\n",
            " [1. 1. 1. 1.]\n",
            " [1. 1. 1. 1.]\n",
            " [1. 1. 1. 1.]]\n",
            "[[4 3 3]\n",
            " [1 5 9]\n",
            " [3 9 2]]\n",
            "[[ 1.73083144 -0.99999863 -0.88557593]\n",
            " [-0.16268566  0.06728659 -0.21787575]\n",
            " [ 0.21487224 -0.34646769  0.92664535]]\n"
          ]
        }
      ]
    },
    {
      "cell_type": "markdown",
      "source": [
        "### Numpy 배열 합치기"
      ],
      "metadata": {
        "id": "AG5_6n2VwZl9"
      }
    },
    {
      "cell_type": "code",
      "source": [
        "import numpy as np\n",
        "\n",
        "array1 = np.array([1, 2, 3])\n",
        "array2 = np.array([4, 5, 6])\n",
        "array3 = np.concatenate([array1,array2]) # 배열을 합칠 때 쓰는 concetenate\n",
        "\n",
        "print(array3.shape)\n",
        "print(array3)"
      ],
      "metadata": {
        "colab": {
          "base_uri": "https://localhost:8080/"
        },
        "id": "lxS6ThEZxGOt",
        "outputId": "ec337cf6-936e-4814-a5fb-8fc7c5fa7b22"
      },
      "execution_count": null,
      "outputs": [
        {
          "output_type": "stream",
          "name": "stdout",
          "text": [
            "(6,)\n",
            "[1 2 3 4 5 6]\n"
          ]
        }
      ]
    },
    {
      "cell_type": "markdown",
      "source": [
        "### Numpy 배열 형태 바꾸기"
      ],
      "metadata": {
        "id": "vNqeIDl_xIyj"
      }
    },
    {
      "cell_type": "code",
      "source": [
        "import numpy as np\n",
        "\n",
        "array1 = np.array([1,2,3,4])\n",
        "array2 = array1.reshape((2,2))\n",
        "print(array2)\n",
        "print(array2.shape)"
      ],
      "metadata": {
        "colab": {
          "base_uri": "https://localhost:8080/"
        },
        "id": "YqEHiOYOxoVT",
        "outputId": "346eaa1a-ba04-411c-b14d-50d0d4f592de"
      },
      "execution_count": null,
      "outputs": [
        {
          "output_type": "stream",
          "name": "stdout",
          "text": [
            "[[1 2]\n",
            " [3 4]]\n",
            "(2, 2)\n"
          ]
        }
      ]
    },
    {
      "cell_type": "markdown",
      "source": [
        "### Numpy 배열 세로축으로 함치기"
      ],
      "metadata": {
        "id": "bndv3cM0yQiw"
      }
    },
    {
      "cell_type": "code",
      "source": [
        "array1 = np.arange(4).reshape(1,4)\n",
        "array2 = np.arange(8).reshape(2,4)\n",
        "array3 = np.concatenate([array1, array2],axis=0) # axis=0 이면 행 , 1 이면 열, 2 이면 channel\n",
        "print(array3)"
      ],
      "metadata": {
        "colab": {
          "base_uri": "https://localhost:8080/"
        },
        "id": "BoRFIX7cyVep",
        "outputId": "ef7cccbe-9c4f-4a08-e9ed-ad901411b2a0"
      },
      "execution_count": null,
      "outputs": [
        {
          "output_type": "stream",
          "name": "stdout",
          "text": [
            "[[0 1 2 3 0 1 2 3]]\n"
          ]
        }
      ]
    },
    {
      "cell_type": "markdown",
      "source": [
        "### Numpy 배열 나누기"
      ],
      "metadata": {
        "id": "1qJbCAD-yyXm"
      }
    },
    {
      "cell_type": "code",
      "source": [
        "import numpy as np\n",
        "\n",
        "array = np.arange(8).reshape(2,4)\n",
        "left, right = np.split(array,[2],axis=1) # array를 index = 2인 열을 기준으로 나눈다.\n",
        "print(left)\n",
        "print(left.shape)\n",
        "print(right)\n",
        "print(right.shape)\n",
        "print(right[1][1])"
      ],
      "metadata": {
        "colab": {
          "base_uri": "https://localhost:8080/"
        },
        "id": "iVg-0rpNzJne",
        "outputId": "e1e24891-2ba0-4076-89bf-f3696ac260e8"
      },
      "execution_count": null,
      "outputs": [
        {
          "output_type": "stream",
          "name": "stdout",
          "text": [
            "[[0 1]\n",
            " [4 5]]\n",
            "(2, 2)\n",
            "[[2 3]\n",
            " [6 7]]\n",
            "(2, 2)\n",
            "7\n"
          ]
        }
      ]
    }
  ]
}
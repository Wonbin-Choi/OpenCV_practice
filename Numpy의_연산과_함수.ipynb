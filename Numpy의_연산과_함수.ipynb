{
  "nbformat": 4,
  "nbformat_minor": 0,
  "metadata": {
    "colab": {
      "provenance": [],
      "authorship_tag": "ABX9TyNpaYMadNENaHkM2n4rHJdv",
      "include_colab_link": true
    },
    "kernelspec": {
      "name": "python3",
      "display_name": "Python 3"
    },
    "language_info": {
      "name": "python"
    }
  },
  "cells": [
    {
      "cell_type": "markdown",
      "metadata": {
        "id": "view-in-github",
        "colab_type": "text"
      },
      "source": [
        "<a href=\"https://colab.research.google.com/github/Wonbin-Choi/OpenCV_practice/blob/main/Numpy%EC%9D%98_%EC%97%B0%EC%82%B0%EA%B3%BC_%ED%95%A8%EC%88%98.ipynb\" target=\"_parent\"><img src=\"https://colab.research.google.com/assets/colab-badge.svg\" alt=\"Open In Colab\"/></a>"
      ]
    },
    {
      "cell_type": "markdown",
      "source": [
        "### Numpy의 기본연산"
      ],
      "metadata": {
        "id": "UoKUuaVSBdpT"
      }
    },
    {
      "cell_type": "code",
      "execution_count": 1,
      "metadata": {
        "colab": {
          "base_uri": "https://localhost:8080/"
        },
        "id": "rkPm5ccf7_gE",
        "outputId": "58d6a7e0-d9b7-45ac-e7b3-4050513b7e83"
      },
      "outputs": [
        {
          "output_type": "stream",
          "name": "stdout",
          "text": [
            "[[7 3]\n",
            " [2 6]]\n"
          ]
        }
      ],
      "source": [
        "import numpy as np\n",
        "\n",
        "array = np.random.randint(1,10,(2,2))\n",
        "print(array)"
      ]
    },
    {
      "cell_type": "code",
      "source": [
        "result_array = array * 10\n",
        "print(result_array)"
      ],
      "metadata": {
        "colab": {
          "base_uri": "https://localhost:8080/"
        },
        "id": "pQtd9SgH_aRw",
        "outputId": "cbea0414-5ce4-4ce4-bb99-1dc0819016f3"
      },
      "execution_count": 2,
      "outputs": [
        {
          "output_type": "stream",
          "name": "stdout",
          "text": [
            "[[70 30]\n",
            " [20 60]]\n"
          ]
        }
      ]
    },
    {
      "cell_type": "markdown",
      "source": [
        "### 서로 다른 형태의 Numpy 연산\n",
        "- Numpy는 서로 다른 형태의 배열을 연산할 때는 행 우선으로 수행이 된다."
      ],
      "metadata": {
        "id": "aw1Y-XoB_fWl"
      }
    },
    {
      "cell_type": "code",
      "source": [
        "array1 = np.arange(4).reshape(2,2) # 2x2\n",
        "array2 = np.arange(2) # 1x2\n",
        "array3 = array1 + array2\n",
        "print(array3)"
      ],
      "metadata": {
        "colab": {
          "base_uri": "https://localhost:8080/"
        },
        "id": "eOJ7ng6r__6-",
        "outputId": "84515c89-b9e3-4e82-c99f-26c365332806"
      },
      "execution_count": 4,
      "outputs": [
        {
          "output_type": "stream",
          "name": "stdout",
          "text": [
            "[[0 2]\n",
            " [2 4]]\n"
          ]
        }
      ]
    },
    {
      "cell_type": "markdown",
      "source": [
        "- 브로드캐스트: 형태가 다른 배열을 연산할 수 있도록 배열의 형태를 동적으로 변환"
      ],
      "metadata": {
        "id": "3usrF27LAPQF"
      }
    },
    {
      "cell_type": "code",
      "source": [
        "array1 = np.arange(0,8).reshape(2,4)\n",
        "array2 = np.arange(0,8).reshape(2,4)\n",
        "array3 = np.concatenate([array1,array2],axis=0) # 4x4\n",
        "print(array3)\n",
        "array4 = np.arange(0,4).reshape(4,1) # 4x1\n",
        "print(array3+array4)"
      ],
      "metadata": {
        "colab": {
          "base_uri": "https://localhost:8080/"
        },
        "id": "LVFpPfUXAmyO",
        "outputId": "a4f5dd03-34a7-4fda-d8f8-d178af56eae1"
      },
      "execution_count": 7,
      "outputs": [
        {
          "output_type": "stream",
          "name": "stdout",
          "text": [
            "[[0 1 2 3]\n",
            " [4 5 6 7]\n",
            " [0 1 2 3]\n",
            " [4 5 6 7]]\n",
            "[[ 0  1  2  3]\n",
            " [ 5  6  7  8]\n",
            " [ 2  3  4  5]\n",
            " [ 7  8  9 10]]\n"
          ]
        }
      ]
    },
    {
      "cell_type": "markdown",
      "source": [
        "### Numpy의 마스킹 연산\n",
        "- 마스킹: 각 원소에 대하여 체크합니다.\n",
        "- 마스킹 연산은 이미지 처리할 때 너무 밝거나 어두운 픽셀들만 다른 픽셀값으로 바꾸는 작업을 수행할 때 요긴하게 사용된다."
      ],
      "metadata": {
        "id": "9UTlDW0dA449"
      }
    },
    {
      "cell_type": "code",
      "source": [
        "array1 = np.arange(16).reshape(4,4)\n",
        "print(array1)\n",
        "array2 = array1 < 10\n",
        "print(array2)\n",
        "\n",
        "array1[array2] = 100\n",
        "print(array1)"
      ],
      "metadata": {
        "colab": {
          "base_uri": "https://localhost:8080/"
        },
        "id": "RiQlT_YTBboD",
        "outputId": "6dbafe91-d6ba-422e-e2e9-b9d47c339208"
      },
      "execution_count": 11,
      "outputs": [
        {
          "output_type": "stream",
          "name": "stdout",
          "text": [
            "[[ 0  1  2  3]\n",
            " [ 4  5  6  7]\n",
            " [ 8  9 10 11]\n",
            " [12 13 14 15]]\n",
            "[[ True  True  True  True]\n",
            " [ True  True  True  True]\n",
            " [ True  True False False]\n",
            " [False False False False]]\n",
            "[[100 100 100 100]\n",
            " [100 100 100 100]\n",
            " [100 100  10  11]\n",
            " [ 12  13  14  15]]\n"
          ]
        }
      ]
    },
    {
      "cell_type": "markdown",
      "source": [
        "### Numpy의 집계 함수"
      ],
      "metadata": {
        "id": "ALWB6dmPB1YB"
      }
    },
    {
      "cell_type": "code",
      "source": [
        "array = np.arange(16).reshape(4,4)\n",
        "print(f\"최댓값: {np.max(array)}\")\n",
        "print(f\"최소값: {np.min(array)}\")\n",
        "print(f\"합계: {np.sum(array)}\")\n",
        "print(f\"평균: {np.mean(array)}\")"
      ],
      "metadata": {
        "colab": {
          "base_uri": "https://localhost:8080/"
        },
        "id": "np6o3cVyCZ97",
        "outputId": "203319c8-da1b-4043-9c4c-a49a1c722666"
      },
      "execution_count": 13,
      "outputs": [
        {
          "output_type": "stream",
          "name": "stdout",
          "text": [
            "최댓값: 15\n",
            "최소값: 0\n",
            "합계: 120\n",
            "평균: 7.5\n"
          ]
        }
      ]
    },
    {
      "cell_type": "code",
      "source": [
        "array = np.arange(16).reshape(4,4)\n",
        "print(array)\n",
        "print(f\"합계: {np.sum(array,axis=0)}\")"
      ],
      "metadata": {
        "colab": {
          "base_uri": "https://localhost:8080/"
        },
        "id": "0unuoZrvCoKs",
        "outputId": "ad8bf48d-4805-44ac-8677-384c5fa825ac"
      },
      "execution_count": 14,
      "outputs": [
        {
          "output_type": "stream",
          "name": "stdout",
          "text": [
            "[[ 0  1  2  3]\n",
            " [ 4  5  6  7]\n",
            " [ 8  9 10 11]\n",
            " [12 13 14 15]]\n",
            "합계: [24 28 32 36]\n"
          ]
        }
      ]
    }
  ]
}
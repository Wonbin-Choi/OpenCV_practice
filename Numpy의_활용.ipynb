{
  "nbformat": 4,
  "nbformat_minor": 0,
  "metadata": {
    "colab": {
      "provenance": [],
      "authorship_tag": "ABX9TyMfpi6Ux5Eoe3XF4ZSBJcF4",
      "include_colab_link": true
    },
    "kernelspec": {
      "name": "python3",
      "display_name": "Python 3"
    },
    "language_info": {
      "name": "python"
    }
  },
  "cells": [
    {
      "cell_type": "markdown",
      "metadata": {
        "id": "view-in-github",
        "colab_type": "text"
      },
      "source": [
        "<a href=\"https://colab.research.google.com/github/Wonbin-Choi/OpenCV_practice/blob/main/Numpy%EC%9D%98_%ED%99%9C%EC%9A%A9.ipynb\" target=\"_parent\"><img src=\"https://colab.research.google.com/assets/colab-badge.svg\" alt=\"Open In Colab\"/></a>"
      ]
    },
    {
      "cell_type": "code",
      "execution_count": 1,
      "metadata": {
        "id": "DGL-OHj8DcD1"
      },
      "outputs": [],
      "source": [
        "import numpy as np"
      ]
    },
    {
      "cell_type": "markdown",
      "source": [
        "### Numpy의 저장과 불러오기"
      ],
      "metadata": {
        "id": "VuvFCL3pD-bh"
      }
    },
    {
      "cell_type": "code",
      "source": [
        "# 단일 객체 저장 및 불러오기\n",
        "array = np.arange(0,10)\n",
        "np.save(\"saved.npy\",array)\n",
        "\n",
        "result = np.load(\"saved.npy\")\n",
        "print(result)"
      ],
      "metadata": {
        "colab": {
          "base_uri": "https://localhost:8080/"
        },
        "id": "XXht3AKWEa8v",
        "outputId": "876c2518-1967-4da7-a149-0bd8f5909d8a"
      },
      "execution_count": 4,
      "outputs": [
        {
          "output_type": "stream",
          "name": "stdout",
          "text": [
            "[0 1 2 3 4 5 6 7 8 9]\n"
          ]
        }
      ]
    },
    {
      "cell_type": "code",
      "source": [
        "# 복수 객체 저장 및 불러오기\n",
        "array1 = np.arange(10)\n",
        "array2 = np.arange(10,20)\n",
        "np.savez(\"saved.npz\",array1=array1, array2=array2)\n",
        "\n",
        "data = np.load(\"saved.npz\",)\n",
        "result1 = data[\"array1\"]\n",
        "result2 = data[\"array2\"]\n",
        "\n",
        "print(result1, result2)"
      ],
      "metadata": {
        "colab": {
          "base_uri": "https://localhost:8080/"
        },
        "id": "HR1-e3M6E5Lv",
        "outputId": "fbee4c0b-a621-482f-8e04-3ae949fdf570"
      },
      "execution_count": 10,
      "outputs": [
        {
          "output_type": "stream",
          "name": "stdout",
          "text": [
            "[0 1 2 3 4 5 6 7 8 9] [10 11 12 13 14 15 16 17 18 19]\n",
            "(0, 1, 2, 3, 4, 5, 6, 7, 8, 9)\n"
          ]
        }
      ]
    },
    {
      "cell_type": "markdown",
      "source": [
        "### Numpy 원소의 정렬"
      ],
      "metadata": {
        "id": "BC0iYbBrFLFJ"
      }
    },
    {
      "cell_type": "code",
      "source": [
        "# Numpy 원소 오름차순 정렬\n",
        "array = np.array([5,9,10,3,1])\n",
        "array.sort()\n",
        "print(array)\n",
        "print(array[::-1])"
      ],
      "metadata": {
        "colab": {
          "base_uri": "https://localhost:8080/"
        },
        "id": "VPT4oJv7FxWB",
        "outputId": "070a8f2b-1b61-4a45-ee80-0b632655f615"
      },
      "execution_count": 13,
      "outputs": [
        {
          "output_type": "stream",
          "name": "stdout",
          "text": [
            "[ 1  3  5  9 10]\n",
            "[10  9  5  3  1]\n"
          ]
        }
      ]
    },
    {
      "cell_type": "code",
      "source": [
        "# 각 열을 기준으로 정렬\n",
        "array = np.array([[5,9,10,3,1],[8,3,4,2,5]])\n",
        "print(array)\n",
        "\n",
        "array.sort(axis=0) # 같은 행끼리의 열중에 오름차순으로 정렬\n",
        "print(array)"
      ],
      "metadata": {
        "colab": {
          "base_uri": "https://localhost:8080/"
        },
        "id": "h6d_hCvYGdiO",
        "outputId": "311e5c4e-79af-4439-b746-437f80aca624"
      },
      "execution_count": 18,
      "outputs": [
        {
          "output_type": "stream",
          "name": "stdout",
          "text": [
            "[[ 5  9 10  3  1]\n",
            " [ 8  3  4  2  5]]\n",
            "[[ 5  3  4  2  1]\n",
            " [ 8  9 10  3  5]]\n"
          ]
        }
      ]
    },
    {
      "cell_type": "code",
      "source": [
        "# 균일한 간격으로 데이터를 생성\n",
        "array = np.linspace(0,10,5) # 시작값과 끝값 사이에 몇개의 데이터가 있는지\n",
        "print(array)\n",
        "\n",
        "# 난수의 재연(실행마다 결과 동일)\n",
        "np.random.seed(7)\n",
        "print(np.random.randint(0,10,(2,3)))\n",
        "\n",
        "# Numpy 배열 객체 복사\n",
        "array1 = np.arange(0,10)\n",
        "array2 = array1 # 얕은 복사,주소만 복사\n",
        "array2[0] = 99\n",
        "print(array1)\n",
        "\n",
        "array1 = np.arange(0,10)\n",
        "array2 = array1.copy() # 깊은 복사, 데이터를 복사\n",
        "array2[0] = 99\n",
        "print(array1)\n",
        "\n",
        "# 중복된 원소 제거\n",
        "array = np.array([1,1,2,2,3,3,4])\n",
        "print(np.unique(array))"
      ],
      "metadata": {
        "colab": {
          "base_uri": "https://localhost:8080/"
        },
        "id": "fJOsmH3-Hit3",
        "outputId": "b528bbff-b959-42cb-f381-a45f5d2b631a"
      },
      "execution_count": 24,
      "outputs": [
        {
          "output_type": "stream",
          "name": "stdout",
          "text": [
            "[ 0.   2.5  5.   7.5 10. ]\n",
            "[[4 9 6]\n",
            " [3 3 7]]\n",
            "[99  1  2  3  4  5  6  7  8  9]\n",
            "[0 1 2 3 4 5 6 7 8 9]\n",
            "[1 2 3 4]\n"
          ]
        }
      ]
    }
  ]
}
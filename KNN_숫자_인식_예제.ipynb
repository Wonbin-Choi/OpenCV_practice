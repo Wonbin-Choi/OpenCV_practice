{
  "nbformat": 4,
  "nbformat_minor": 0,
  "metadata": {
    "colab": {
      "provenance": [],
      "authorship_tag": "ABX9TyNPpfW4wOSmkIW6gK8ZesMa",
      "include_colab_link": true
    },
    "kernelspec": {
      "name": "python3",
      "display_name": "Python 3"
    },
    "language_info": {
      "name": "python"
    }
  },
  "cells": [
    {
      "cell_type": "markdown",
      "metadata": {
        "id": "view-in-github",
        "colab_type": "text"
      },
      "source": [
        "<a href=\"https://colab.research.google.com/github/Wonbin-Choi/OpenCV_practice/blob/main/KNN_%EC%88%AB%EC%9E%90_%EC%9D%B8%EC%8B%9D_%EC%98%88%EC%A0%9C.ipynb\" target=\"_parent\"><img src=\"https://colab.research.google.com/assets/colab-badge.svg\" alt=\"Open In Colab\"/></a>"
      ]
    },
    {
      "cell_type": "code",
      "source": [
        "from google.colab import files\n",
        "uploaded = files.upload()"
      ],
      "metadata": {
        "colab": {
          "base_uri": "https://localhost:8080/",
          "height": 74
        },
        "id": "grMmqJK2nO9S",
        "outputId": "4f01bf25-f4b5-4f4f-db70-b2f3111ab923"
      },
      "execution_count": 2,
      "outputs": [
        {
          "output_type": "display_data",
          "data": {
            "text/plain": [
              "<IPython.core.display.HTML object>"
            ],
            "text/html": [
              "\n",
              "     <input type=\"file\" id=\"files-4702f67a-53c4-4f04-a6cd-442e42c8c78a\" name=\"files[]\" multiple disabled\n",
              "        style=\"border:none\" />\n",
              "     <output id=\"result-4702f67a-53c4-4f04-a6cd-442e42c8c78a\">\n",
              "      Upload widget is only available when the cell has been executed in the\n",
              "      current browser session. Please rerun this cell to enable.\n",
              "      </output>\n",
              "      <script>// Copyright 2017 Google LLC\n",
              "//\n",
              "// Licensed under the Apache License, Version 2.0 (the \"License\");\n",
              "// you may not use this file except in compliance with the License.\n",
              "// You may obtain a copy of the License at\n",
              "//\n",
              "//      http://www.apache.org/licenses/LICENSE-2.0\n",
              "//\n",
              "// Unless required by applicable law or agreed to in writing, software\n",
              "// distributed under the License is distributed on an \"AS IS\" BASIS,\n",
              "// WITHOUT WARRANTIES OR CONDITIONS OF ANY KIND, either express or implied.\n",
              "// See the License for the specific language governing permissions and\n",
              "// limitations under the License.\n",
              "\n",
              "/**\n",
              " * @fileoverview Helpers for google.colab Python module.\n",
              " */\n",
              "(function(scope) {\n",
              "function span(text, styleAttributes = {}) {\n",
              "  const element = document.createElement('span');\n",
              "  element.textContent = text;\n",
              "  for (const key of Object.keys(styleAttributes)) {\n",
              "    element.style[key] = styleAttributes[key];\n",
              "  }\n",
              "  return element;\n",
              "}\n",
              "\n",
              "// Max number of bytes which will be uploaded at a time.\n",
              "const MAX_PAYLOAD_SIZE = 100 * 1024;\n",
              "\n",
              "function _uploadFiles(inputId, outputId) {\n",
              "  const steps = uploadFilesStep(inputId, outputId);\n",
              "  const outputElement = document.getElementById(outputId);\n",
              "  // Cache steps on the outputElement to make it available for the next call\n",
              "  // to uploadFilesContinue from Python.\n",
              "  outputElement.steps = steps;\n",
              "\n",
              "  return _uploadFilesContinue(outputId);\n",
              "}\n",
              "\n",
              "// This is roughly an async generator (not supported in the browser yet),\n",
              "// where there are multiple asynchronous steps and the Python side is going\n",
              "// to poll for completion of each step.\n",
              "// This uses a Promise to block the python side on completion of each step,\n",
              "// then passes the result of the previous step as the input to the next step.\n",
              "function _uploadFilesContinue(outputId) {\n",
              "  const outputElement = document.getElementById(outputId);\n",
              "  const steps = outputElement.steps;\n",
              "\n",
              "  const next = steps.next(outputElement.lastPromiseValue);\n",
              "  return Promise.resolve(next.value.promise).then((value) => {\n",
              "    // Cache the last promise value to make it available to the next\n",
              "    // step of the generator.\n",
              "    outputElement.lastPromiseValue = value;\n",
              "    return next.value.response;\n",
              "  });\n",
              "}\n",
              "\n",
              "/**\n",
              " * Generator function which is called between each async step of the upload\n",
              " * process.\n",
              " * @param {string} inputId Element ID of the input file picker element.\n",
              " * @param {string} outputId Element ID of the output display.\n",
              " * @return {!Iterable<!Object>} Iterable of next steps.\n",
              " */\n",
              "function* uploadFilesStep(inputId, outputId) {\n",
              "  const inputElement = document.getElementById(inputId);\n",
              "  inputElement.disabled = false;\n",
              "\n",
              "  const outputElement = document.getElementById(outputId);\n",
              "  outputElement.innerHTML = '';\n",
              "\n",
              "  const pickedPromise = new Promise((resolve) => {\n",
              "    inputElement.addEventListener('change', (e) => {\n",
              "      resolve(e.target.files);\n",
              "    });\n",
              "  });\n",
              "\n",
              "  const cancel = document.createElement('button');\n",
              "  inputElement.parentElement.appendChild(cancel);\n",
              "  cancel.textContent = 'Cancel upload';\n",
              "  const cancelPromise = new Promise((resolve) => {\n",
              "    cancel.onclick = () => {\n",
              "      resolve(null);\n",
              "    };\n",
              "  });\n",
              "\n",
              "  // Wait for the user to pick the files.\n",
              "  const files = yield {\n",
              "    promise: Promise.race([pickedPromise, cancelPromise]),\n",
              "    response: {\n",
              "      action: 'starting',\n",
              "    }\n",
              "  };\n",
              "\n",
              "  cancel.remove();\n",
              "\n",
              "  // Disable the input element since further picks are not allowed.\n",
              "  inputElement.disabled = true;\n",
              "\n",
              "  if (!files) {\n",
              "    return {\n",
              "      response: {\n",
              "        action: 'complete',\n",
              "      }\n",
              "    };\n",
              "  }\n",
              "\n",
              "  for (const file of files) {\n",
              "    const li = document.createElement('li');\n",
              "    li.append(span(file.name, {fontWeight: 'bold'}));\n",
              "    li.append(span(\n",
              "        `(${file.type || 'n/a'}) - ${file.size} bytes, ` +\n",
              "        `last modified: ${\n",
              "            file.lastModifiedDate ? file.lastModifiedDate.toLocaleDateString() :\n",
              "                                    'n/a'} - `));\n",
              "    const percent = span('0% done');\n",
              "    li.appendChild(percent);\n",
              "\n",
              "    outputElement.appendChild(li);\n",
              "\n",
              "    const fileDataPromise = new Promise((resolve) => {\n",
              "      const reader = new FileReader();\n",
              "      reader.onload = (e) => {\n",
              "        resolve(e.target.result);\n",
              "      };\n",
              "      reader.readAsArrayBuffer(file);\n",
              "    });\n",
              "    // Wait for the data to be ready.\n",
              "    let fileData = yield {\n",
              "      promise: fileDataPromise,\n",
              "      response: {\n",
              "        action: 'continue',\n",
              "      }\n",
              "    };\n",
              "\n",
              "    // Use a chunked sending to avoid message size limits. See b/62115660.\n",
              "    let position = 0;\n",
              "    do {\n",
              "      const length = Math.min(fileData.byteLength - position, MAX_PAYLOAD_SIZE);\n",
              "      const chunk = new Uint8Array(fileData, position, length);\n",
              "      position += length;\n",
              "\n",
              "      const base64 = btoa(String.fromCharCode.apply(null, chunk));\n",
              "      yield {\n",
              "        response: {\n",
              "          action: 'append',\n",
              "          file: file.name,\n",
              "          data: base64,\n",
              "        },\n",
              "      };\n",
              "\n",
              "      let percentDone = fileData.byteLength === 0 ?\n",
              "          100 :\n",
              "          Math.round((position / fileData.byteLength) * 100);\n",
              "      percent.textContent = `${percentDone}% done`;\n",
              "\n",
              "    } while (position < fileData.byteLength);\n",
              "  }\n",
              "\n",
              "  // All done.\n",
              "  yield {\n",
              "    response: {\n",
              "      action: 'complete',\n",
              "    }\n",
              "  };\n",
              "}\n",
              "\n",
              "scope.google = scope.google || {};\n",
              "scope.google.colab = scope.google.colab || {};\n",
              "scope.google.colab._files = {\n",
              "  _uploadFiles,\n",
              "  _uploadFilesContinue,\n",
              "};\n",
              "})(self);\n",
              "</script> "
            ]
          },
          "metadata": {}
        },
        {
          "output_type": "stream",
          "name": "stdout",
          "text": [
            "Saving digits.png to digits.png\n"
          ]
        }
      ]
    },
    {
      "cell_type": "markdown",
      "source": [
        "## 숫자 이미지 분류하여 저장하기"
      ],
      "metadata": {
        "id": "VW9dwEICnMQ8"
      }
    },
    {
      "cell_type": "code",
      "execution_count": 4,
      "metadata": {
        "id": "99M6vueZm_Rf"
      },
      "outputs": [],
      "source": [
        "import cv2\n",
        "import numpy as np\n",
        "\n",
        "img = cv2.imread('digits.png')\n",
        "gray = cv2.cvtColor(img,cv2.COLOR_BGR2GRAY)\n",
        "\n",
        "# 세로로 50줄, 가로로 100줄로 사진을 나눕니다.\n",
        "cells = [np.hsplit(row,100) for row in np.vsplit(gray,50)]\n",
        "# cells에는 숫자 한개씩 들어있음 1 x 1의 사진이 50 x 100의 숫자 사진들로 바뀐것\n",
        "x = np.array(cells)\n",
        "\n",
        "# 각 (20 X 20) 크기의 사진을 한 줄 (1 X 400)으로 바꿉니다.\n",
        "train = x[:,:].reshape(-1,400).astype(np.float32)\n",
        "\n",
        "# 0이 500개, 1이 500개, ...로 총 5,000개가 들어가는 (1 X 5000) 배열을 만듭니다\n",
        "k = np.arange(10)\n",
        "# 사진에 해당하는 숫자값들을 0,0,0,...이렇게 나열해준거임\n",
        "# 정답 데이터\n",
        "train_labels = np.repeat(k,500)[:,np.newaxis]\n",
        "\n",
        "np.savez(\"trained.npz\",train=train, train_labels=train_labels)"
      ]
    },
    {
      "cell_type": "code",
      "source": [
        "import matplotlib.pyplot as plt\n",
        "\n",
        "# 다음과 같이 하나씩 글자를 출력할 수 있습니다.\n",
        "plt.imshow(cv2.cvtColor(x[0,0],cv2.COLOR_GRAY2RGB))\n",
        "plt.show()\n",
        "\n",
        "# 다음과 같이 하나씩 글자를 저장할 수 있습니다.\n",
        "# 테스트 데이터 만들\n",
        "cv2.imwrite('test_0.png', x[0, 0])\n",
        "cv2.imwrite('test_1.png', x[5, 0])\n",
        "cv2.imwrite('test_2.png', x[10, 0])\n",
        "cv2.imwrite('test_3.png', x[15, 0])\n",
        "cv2.imwrite('test_4.png', x[20, 0])\n",
        "cv2.imwrite('test_5.png', x[25, 0])\n",
        "cv2.imwrite('test_6.png', x[30, 0])\n",
        "cv2.imwrite('test_7.png', x[35, 0])\n",
        "cv2.imwrite('test_8.png', x[40, 0])\n",
        "cv2.imwrite('test_9.png', x[45, 0])"
      ],
      "metadata": {
        "colab": {
          "base_uri": "https://localhost:8080/",
          "height": 449
        },
        "id": "bWngFDkppz3r",
        "outputId": "fdcaf46a-af20-4ef9-c0d0-897b369a5f0b"
      },
      "execution_count": 5,
      "outputs": [
        {
          "output_type": "display_data",
          "data": {
            "text/plain": [
              "<Figure size 640x480 with 1 Axes>"
            ],
            "image/png": "[encoded data removed]"
          },
          "metadata": {}
        },
        {
          "output_type": "execute_result",
          "data": {
            "text/plain": [
              "True"
            ]
          },
          "metadata": {},
          "execution_count": 5
        }
      ]
    },
    {
      "cell_type": "markdown",
      "source": [
        "## KNN 숫자 인식"
      ],
      "metadata": {
        "id": "dCHUKsnznXfV"
      }
    },
    {
      "cell_type": "code",
      "source": [
        "import cv2\n",
        "import numpy as np\n",
        "import glob\n",
        "\n",
        "FILE_NAME = 'trained.npz'\n",
        "\n",
        "# 파일로부터 학습 데이터를 불러옵니다.\n",
        "def load_train_data(file_name):\n",
        "  with np.load(file_name) as data:\n",
        "    train = data['train']\n",
        "    train_labels = data['train_labels']\n",
        "  return train, train_labels\n",
        "\n",
        "# 손 글씨 이미지를 (20 X 20) 크기로 Scailing합니다.\n",
        "def resize20(image):\n",
        "  img = cv2.imread(image)\n",
        "  gray = cv2.cvtColor(img,cv2.COLOR_BGR2GRAY)\n",
        "  gray_resize = cv2.resize(gray,(20,20))\n",
        "  plt.imshow(cv2.cvtColor(gray_resize, cv2.COLOR_GRAY2RGB))\n",
        "  plt.show()\n",
        "  # 최종적으로는 (1 X 400) 크기로 반환합니다.\n",
        "  return gray_resize.reshape(-1,400).astype(np.float32)\n",
        "\n",
        "def check(test,train,train_labels):\n",
        "  knn = cv2.ml.KNearest_create()\n",
        "  knn.train(train,cv2.ml.ROW_SAMPLE,train_labels)\n",
        "  # 가장 가까운 5개의 글자를 찾아, 어떤 숫자에 해당하는지 찾습니다.\n",
        "  ret, result, neighbours, dist = knn.findNearest(test,k=5)\n",
        "  return result\n",
        "\n",
        "train, train_labels = load_train_data(FILE_NAME)\n",
        "\n",
        "for file_name in glob.glob('./test_*.png'):\n",
        "  # 테스트 데이터\n",
        "  test = resize20(file_name)\n",
        "  result = check(test, train, train_labels)\n",
        "  print(result)"
      ],
      "metadata": {
        "id": "XSJmfHMSnbAn"
      },
      "execution_count": null,
      "outputs": []
    }
  ]
}
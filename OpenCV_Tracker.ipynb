{
  "nbformat": 4,
  "nbformat_minor": 0,
  "metadata": {
    "colab": {
      "provenance": [],
      "authorship_tag": "ABX9TyN1JWsJw4JhHtyKKERyaJgI",
      "include_colab_link": true
    },
    "kernelspec": {
      "name": "python3",
      "display_name": "Python 3"
    },
    "language_info": {
      "name": "python"
    }
  },
  "cells": [
    {
      "cell_type": "markdown",
      "metadata": {
        "id": "view-in-github",
        "colab_type": "text"
      },
      "source": [
        "<a href=\"https://colab.research.google.com/github/Wonbin-Choi/OpenCV_practice/blob/main/OpenCV_Tracker.ipynb\" target=\"_parent\"><img src=\"https://colab.research.google.com/assets/colab-badge.svg\" alt=\"Open In Colab\"/></a>"
      ]
    },
    {
      "cell_type": "markdown",
      "source": [
        "## OpenCV Tracker 실습\n",
        "- 본 실습은 Pycharm등의 개인 개발환경에서 진행하세요"
      ],
      "metadata": {
        "id": "FjsXMCtNCBKD"
      }
    },
    {
      "cell_type": "code",
      "execution_count": null,
      "metadata": {
        "id": "ULIl-5HIA08I"
      },
      "outputs": [],
      "source": [
        "import cv2\n",
        "import numpy as np\n",
        "\n",
        "def change_color(x):\n",
        "  r = cv2.getTrackbarPos(\"R\", \"Image\")\n",
        "  g = cv2.getTrackbarPos(\"G\", \"Image\")\n",
        "  b = cv2.getTrackbarPos(\"B\", \"Image\")\n",
        "  image[:] = [b, g, r]\n",
        "  cv2.imshow('Image', image)\n",
        "\n",
        "image = np.zeros((600, 400, 3), np.uint8)\n",
        "cv2.namedWindow(\"Image\")\n",
        "\n",
        "cv2.createTrackbar(\"R\", \"Image\", 0, 255, change_color)\n",
        "cv2.createTrackbar(\"G\", \"Image\", 0, 255, change_color)\n",
        "cv2.createTrackbar(\"B\", \"Image\", 0, 255, change_color)\n",
        "\n",
        "cv2.imshow('Image', image)\n",
        "cv2.waitKey(0)"
      ]
    }
  ]
}